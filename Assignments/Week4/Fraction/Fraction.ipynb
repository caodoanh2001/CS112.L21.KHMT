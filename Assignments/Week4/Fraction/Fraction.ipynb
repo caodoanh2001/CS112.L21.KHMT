{
  "nbformat": 4,
  "nbformat_minor": 0,
  "metadata": {
    "colab": {
      "name": "Fraction.ipynb",
      "provenance": []
    },
    "kernelspec": {
      "name": "python3",
      "display_name": "Python 3"
    },
    "language_info": {
      "name": "python"
    }
  },
  "cells": [
    {
      "cell_type": "markdown",
      "metadata": {
        "id": "RQqvq6PLKJvZ"
      },
      "source": [
        "## Problem\n",
        "![](https://i.imgur.com/9gqhqvF.png)\n",
        "\n",
        "## Abstraction \n",
        "\n",
        "Find the number of times **a/b** is converted to **c/d** with each transformation increasing the numerator and denominator by 1, and then simplifying the fraction. \n",
        "\n",
        "## Patern Recognition\n",
        "\n",
        "Brute Force\n",
        "\n",
        "## Algorithm designed\n",
        "\n",
        "First we create n and set it to 0 for storing times. Then we follow steps below:\n",
        "1. Check 3 conditions:\n",
        "    - a x d <= b x c (whether a/b can be converted to c/d)\n",
        "    - a/b < 1 (not larger than 1)\n",
        "    - c/d < 1 (not larger than 1)\n",
        "2. Run a while loop:\n",
        "    2.1. Increase a and b by 1.\n",
        "    2.2. Caculate greatest common divisor of a and b.\n",
        "    2.3. Increase n by 1.\n",
        "    2.4. If we find the step that the value of a,b equal to c,d respectively, we return n.\n",
        "\n",
        "```\n",
        "Given a,b,c,d\n",
        "proceduce(a,b,c,d):\n",
        "    n <-- 0\n",
        "    if (a*d <= b*c and a/b < 1 and c/d < 1)):\n",
        "        while (a*b < c*d):\n",
        "            a <-- a + 1         // increase a by 1\n",
        "            b <-- b + 1        // increase b by 1\n",
        "            cd <-- GCD(a, b)    // Calculate greatest common divisor of a and b.\n",
        "            n <-- n + 1        // increase the times\n",
        "            if (a==c and b==d):\n",
        "                return n\n",
        "```\n",
        "\n",
        "## Complexity\n",
        "\n",
        "Because of using a while loop, complexity is O(n). In step 2.2 we calculate the GCD of a and b by **gcd** function of **math** library, if they use Euclidean algorithm for this function, complexity is O(n). Combine 2 complexities we may figure out the complexity of this solution is **O(n^2)**"
      ]
    },
    {
      "cell_type": "code",
      "metadata": {
        "id": "kX0kJxKLKG6o",
        "colab": {
          "base_uri": "https://localhost:8080/"
        },
        "outputId": "026eb534-009f-40b6-fbc7-c1a4bfab5496"
      },
      "source": [
        "import math\n",
        "a = int(input())\n",
        "b = int(input())\n",
        "c = int(input())\n",
        "d = int(input())\n",
        "\n",
        "def solve(a,b,c,d):\n",
        "    n = 0\n",
        "    if (a*d < b*c and c/d < 1 and a/b < 1):\n",
        "        while (a*d <= b*c):\n",
        "            a = a + 1\n",
        "            b = b + 1\n",
        "            cd = math.gcd(a,b)\n",
        "            a = a // cd\n",
        "            b = b // cd\n",
        "            n = n + 1\n",
        "            if (a == c and b == d):\n",
        "                return n\n",
        "\n",
        "rs = solve(a,b,c,d)\n",
        "if rs == None:\n",
        "    print(0)\n",
        "else:\n",
        "    print(rs)"
      ],
      "execution_count": 5,
      "outputs": [
        {
          "output_type": "stream",
          "text": [
            "1\n",
            "6\n",
            "2\n",
            "3\n",
            "5\n"
          ],
          "name": "stdout"
        }
      ]
    }
  ]
}