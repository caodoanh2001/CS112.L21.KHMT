{
  "nbformat": 4,
  "nbformat_minor": 0,
  "metadata": {
    "colab": {
      "name": "H_index+Lock_number.ipynb",
      "provenance": [],
      "collapsed_sections": []
    },
    "kernelspec": {
      "name": "python3",
      "display_name": "Python 3"
    },
    "language_info": {
      "name": "python"
    }
  },
  "cells": [
    {
      "cell_type": "markdown",
      "metadata": {
        "id": "ZkNJOWAhk_0R"
      },
      "source": [
        "# H_index\n",
        "\n",
        "## Problem\n",
        "\n",
        "How do you measure a scientist's success? Based on the number of articles published or on the number of times an article has been cited in the work of others? Both of those parameters are important.\n",
        "\n",
        "An article has a citation score of **c** if it is cited **c** times in the works of other scientists. One of the ways to evaluate a scientist's success is to calculate the **H_Index** impact index based on the combination of the number of articles and the citation index of those articles.\n",
        "\n",
        "A scientist's **H_Index** is maximum of **k** if he or she has **k** articles, each with a citation score of not less than **k**. For example, if a person has 10 articles, each of which is cited no less than 10 times, that person's **H_Index** is at least equal to 10.\n",
        "\n",
        "A person has **n** articles, the **i-th** article has the citation score of **c_i**, *i = 1 ÷ n*. Identify that person's **H_Index**.\n",
        "\n",
        "Input from standard input device:\n",
        "\n",
        "- The first line contains an integer n (1 ≤ n ≤ 5 × 105),\n",
        "- Line 2 contains n integers **c1**, **c2**,..., **cn** (0 ≤ ci ≤ 106, i = 1 ÷ n).\n",
        "- **Result:** Give the standard output an integer - found **H_index**\n",
        "\n",
        "Example:\n",
        "\n",
        "\n",
        "<table>\n",
        "<tbody>\n",
        "<tr>\n",
        "<td>Input</td>\n",
        "<td>Output</td>\n",
        "</tr>\n",
        "<tr>\n",
        "<td>\n",
        "<p><tt><strong>5</strong></tt></p>\n",
        "<p><tt><strong>8 5 3 4 10</strong></tt></p>\n",
        "</td>\n",
        "<td>4</td>\n",
        "</tr>\n",
        "</tbody>\n",
        "</table>\n",
        "\n",
        "## Abstraction\n",
        "\n",
        "Find the largest **k** number that is equal to or less than **k** components in an array.\n",
        "\n",
        "## Pattern Recognition\n",
        "\n",
        "Loop\n",
        "Array sorting\n",
        "\n",
        "## Algorithm designed\n",
        "\n",
        "Below we describe our pesudocode for this problem:\n",
        "\n",
        "```\n",
        "count = 0\n",
        "i = 0 \n",
        "last = n (In the begining, possible max of k is n)\n",
        "while i < n: (check if i is still less than n)\n",
        "    if cites[i] >= last: (check if i-th component is greater than number of articles)\n",
        "        count = count + 1 (if it is, increase count by 1)\n",
        "    else:\n",
        "        last = last - 1 (if not, decrease possible max of k by 1)\n",
        "    i = i + 1\n",
        "```\n",
        "\n",
        "## Complexity\n",
        "\n",
        "Because the worst case is checking all components in an array, so the complexity is **O(n)**"
      ]
    },
    {
      "cell_type": "code",
      "metadata": {
        "id": "Tm4zKa7lxa6w"
      },
      "source": [
        "n = int(input())\n",
        "cites = input().split()\n",
        "for i in range(0, len(cites)):\n",
        "    cites[i] = int(cites[i])\n",
        "\n",
        "cites = sorted(cites)\n",
        "\n",
        "count = 0\n",
        "i = 0\n",
        "last = n\n",
        "while i < n:\n",
        "\tif cites[i]>=last:\n",
        "\t\tcount += 1\n",
        "\telse:\n",
        "\t\tlast = last-1\n",
        "\ti += 1\n",
        "\n",
        "print(count)"
      ],
      "execution_count": null,
      "outputs": []
    },
    {
      "cell_type": "markdown",
      "metadata": {
        "id": "BzJPE93D9_-6"
      },
      "source": [
        "# Lock number"
      ]
    },
    {
      "cell_type": "code",
      "metadata": {
        "colab": {
          "base_uri": "https://localhost:8080/"
        },
        "id": "ccs2i5Hj6O-2",
        "outputId": "7ff23b67-7fbf-4194-8b0a-0da60e750fd0"
      },
      "source": [
        "# Cách dùng quay lui\n",
        "\n",
        "inp = input()\n",
        "\n",
        "arr = ['']*len(inp)\n",
        "for i in range(0, len(arr)):\n",
        "    arr[i] = int(inp[i])\n",
        "\n",
        "arr = sorted(arr)[::-1]\n",
        "a = [0] * len(arr)\n",
        "container = []\n",
        "def attempt(i, arr, chosen):\n",
        "    for v in arr:\n",
        "        a[i] = v\n",
        "        chosen = \"\".join(str(c) for c in a)\n",
        "        if i == len(arr) - 1 and int(chosen) % 3 == 0:\n",
        "            container.append(chosen)\n",
        "        else:\n",
        "            attempt(i+1, [x for x in arr if x != v], chosen)\n",
        "\n",
        "attempt(0, arr, '')\n",
        "\n",
        "print(container[-1])"
      ],
      "execution_count": null,
      "outputs": [
        {
          "output_type": "stream",
          "text": [
            "003\n",
            "300\n"
          ],
          "name": "stdout"
        }
      ]
    },
    {
      "cell_type": "code",
      "metadata": {
        "colab": {
          "base_uri": "https://localhost:8080/"
        },
        "id": "PqiTVNXF94bi",
        "outputId": "8a427b10-2a60-4632-f0ef-fe5ff66f52a9"
      },
      "source": [
        "# Cách dùng quy hoạch động\n",
        "\n",
        "arr = list(map(int, input().strip()))\n",
        "\n",
        "def MaxNumberDivisible3(arr):\n",
        "    arr = sorted(arr)\n",
        "\n",
        "    queue0 = [] \n",
        "    queue1 = []\n",
        "    queue2 = []\n",
        "\n",
        "    i = 0 \n",
        "    sum = 0\n",
        " \n",
        "    for i in range(0, len(arr)):\n",
        "        sum = sum + arr[i]\n",
        "        if (arr[i] % 3 == 0):\n",
        "            queue0.append(arr[i])\n",
        "        elif (arr[i] % 3 == 1):\n",
        "            queue1.append(arr[i])\n",
        "        else:\n",
        "            queue2.append(arr[i])\n",
        " \n",
        "    if (sum % 3 == 1):\n",
        "        if queue1:\n",
        "            queue1 = queue1[1:]\n",
        "        elif queue2:\n",
        "            queue2 = queue2[2:]\n",
        " \n",
        "    elif (sum % 3 == 2):\n",
        "        if queue2:\n",
        "            queue2 = queue2[1:]\n",
        "        elif queue1:\n",
        "            queue1 = queue1[2:]\n",
        "\n",
        "    aux = queue0 + queue1 + queue2\n",
        "    aux = sorted(aux)[::-1]\n",
        "  \n",
        "    return aux\n",
        "\n",
        "result = MaxNumberDivisible3(arr)\n",
        "print(''.join([str(c) for c in result]))"
      ],
      "execution_count": null,
      "outputs": [
        {
          "output_type": "stream",
          "text": [
            "105\n",
            "510\n"
          ],
          "name": "stdout"
        }
      ]
    }
  ]
}