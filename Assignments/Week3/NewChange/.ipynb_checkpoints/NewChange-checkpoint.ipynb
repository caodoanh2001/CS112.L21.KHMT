{
 "cells": [
  {
   "cell_type": "markdown",
   "metadata": {
    "id": "wAYQrGu4f-LW"
   },
   "source": [
    "# New change\n",
    "\n",
    "## Problem\n",
    "\n",
    "The city decided to cut down all existing trees in the city to plant only one new tree. The task is assigned to the City Green Tree Company. Due to equipment limitation, the Company can organize only two teams to cut down trees. Team I kills a tree every day, but every kth day, they have to rest for technical maintenance, that is, team I will rest on days ***k***, ***2k***, ***3k***,. . . Team II cuts down b trees every day, but every mth day, they have to rest for technical maintenance. That means Team II will rest on days ***m***, ***2m***, ***3m***,. . . On the day off, the number of felling trees for the team will be 0. Both teams start work on the same day and work in tandem. \n",
    "\n",
    "Input from standard input device:\n",
    "\n",
    "Data: Input from the standard input device consists of a line containing 5 integers **a**, **k**, **b**, **m** and **n** (1 ≤ **a**, **b** ≤ 109, 2 ≤ **k**, **m** ≤ 1018, 1 ≤ **n** ≤ 1018). \n",
    "\n",
    "Example:\n",
    "\n",
    "\n",
    "<table>\n",
    "<tbody>\n",
    "<tr>\n",
    "<td>Input</td>\n",
    "<td>Output</td>\n",
    "</tr>\n",
    "<tr>\n",
    "<td>\n",
    "<p><tt><strong>2 4 3 3 25</strong></tt></p>\n",
    "</td>\n",
    "<td>7</td>\n",
    "</tr>\n",
    "</tbody>\n",
    "</table>\n",
    "\n",
    "## Abstraction\n",
    "\n",
    "We have the number of working days of team I is ![](https://i.imgur.com/JU4TRvP.png)\n",
    ", with ![](https://i.imgur.com/zlCddGk.png) is an integer.\n",
    "the number of working days of team II is ![](https://i.imgur.com/SGob5Vp.png), with ![](https://i.imgur.com/Ryo3SOS.png) is an integer.\n",
    "Therefore, total trees that both teams grow:\n",
    "![](https://i.imgur.com/wtdIwzj.png)\n",
    "So that we have to find the minimum of ![](https://i.imgur.com/aa15hgt.png) that still less than or equal the value of below equation:\n",
    "![](https://i.imgur.com/vINkIbg.png)\n",
    "\n",
    "\n",
    "## Pattern Recognition\n",
    "\n",
    "Dynamic programming\n",
    "\n",
    "## Algorithm designed\n",
    "\n",
    "The main idea is search the value of x from 0 to inf.\n",
    "\n",
    "![](https://i.imgur.com/Cvgw9lZ.png)."
   ]
  },
  {
   "cell_type": "code",
   "execution_count": null,
   "metadata": {
    "id": "M4ggls1If9V8"
   },
   "outputs": [],
   "source": [
    "inp = list(map(int, input().split(' ')))\n",
    "a, k, b, m, n = inp\n",
    "left = 1\n",
    "right = 10**18\n",
    "days = 0\n",
    "while left <= right:\n",
    "    mid = left + (right - left) // 2\n",
    "    days_a = mid - (mid //k)\n",
    "    days_b = mid - (mid //m)\n",
    "    n_trees = days_a * a + days_b * b\n",
    "    if n_trees >= n:\n",
    "        right = mid - 1\n",
    "        days = mid\n",
    "    else:\n",
    "        left = mid + 1\n",
    "\n",
    "print(days)"
   ]
  }
 ],
 "metadata": {
  "colab": {
   "name": "NewChange.ipynb",
   "provenance": []
  },
  "kernelspec": {
   "display_name": "Python 3",
   "language": "python",
   "name": "python3"
  },
  "language_info": {
   "codemirror_mode": {
    "name": "ipython",
    "version": 3
   },
   "file_extension": ".py",
   "mimetype": "text/x-python",
   "name": "python",
   "nbconvert_exporter": "python",
   "pygments_lexer": "ipython3",
   "version": "3.8.5"
  }
 },
 "nbformat": 4,
 "nbformat_minor": 1
}
