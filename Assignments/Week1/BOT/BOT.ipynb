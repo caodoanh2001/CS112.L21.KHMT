{
  "nbformat": 4,
  "nbformat_minor": 0,
  "metadata": {
    "colab": {
      "name": "BOT.ipynb",
      "provenance": [],
      "collapsed_sections": []
    },
    "kernelspec": {
      "name": "python3",
      "display_name": "Python 3"
    },
    "language_info": {
      "name": "python"
    }
  },
  "cells": [
    {
      "cell_type": "markdown",
      "metadata": {
        "id": "hEnQqYBeUUjx"
      },
      "source": [
        "# Problem 1: BOT\n",
        "\n",
        "![](https://i.imgur.com/JEviVS7.png)\n",
        "\n",
        "Below we will describe clearly our solution\n",
        "\n",
        "**Abstraction**: Find the subarray that has largest total sum.\n",
        "\n",
        "**Pattern Recognition**: Dynamic Programming\n",
        "\n",
        "## Algorithm designed\n",
        "\n",
        "```\n",
        "Given arr[n]\n",
        "\n",
        "Begin from first element (start = 0)\n",
        "for i:=0 to n-1:\n",
        "    current_sum += arr[i] (cumulative sums)\n",
        "    if current_sum > max_sum: (check whether current cumulative sums larger than cumulative max sums)\n",
        "        max_sum = current_sum (tracking current cumulative sums)\n",
        "        position_start = start (update index of first element of subarray)\n",
        "        position_end = i (update index of last element of subarray)\n",
        "        \n",
        "    if current_sum < 0: (check whether current cumulative sum is negative)\n",
        "        position_start = i + 1 (we will update the index of first element of subarray to the next element of original array.)\n",
        "        current_sum = 0 (we will remove cumulative sum, calculate it again from the next element.)\n",
        "\n",
        "return position_start, position_end, max_sum\n",
        "    \n",
        "```\n",
        "\n",
        "**Complexity**: because we only use 1 loop so that the complexity is O(n)."
      ]
    },
    {
      "cell_type": "code",
      "metadata": {
        "id": "6QBe-RT5PItH"
      },
      "source": [
        "def max_contiguous_sum(arr, size):\n",
        "    '''\n",
        "    Function that find the subarray that has highest sum\n",
        "    Input: \n",
        "      arr: array that contains all int elements.\n",
        "      size (int): size of array.\n",
        "    Output:\n",
        "      pos_start (int): number indicate the first element of found subarray.\n",
        "      pos_end (int): number indicate the last element of found subarray.\n",
        "      max_sum (int): sum of found subarray.\n",
        "    '''\n",
        "    max_sum = -99999\n",
        "    curr_sum = 0\n",
        "    start = 0\n",
        "\n",
        "    for i in range(0, size):\n",
        "        curr_sum = curr_sum + arr[i]\n",
        "        if (max_sum < curr_sum):\n",
        "            max_sum = curr_sum # update max_sum if the added element make it higher.\n",
        "            current_start = start\n",
        "            current_end = i\n",
        "        if (curr_sum < 0): # case our sum of subarray is negative.\n",
        "            curr_sum = 0\n",
        "            start = i + 1\n",
        "\n",
        "    return current_start+1, current_end+1, max_sum"
      ],
      "execution_count": 17,
      "outputs": []
    },
    {
      "cell_type": "code",
      "metadata": {
        "id": "K4PtghUsQwHS"
      },
      "source": [
        "size = 16\n",
        "arr = [2,-4,5,-8,4,-1,-1,1,1,1,-2,2,4,-6,9,-4]"
      ],
      "execution_count": 18,
      "outputs": []
    },
    {
      "cell_type": "code",
      "metadata": {
        "colab": {
          "base_uri": "https://localhost:8080/"
        },
        "id": "Vg9tQZ4oRFok",
        "outputId": "36a42021-6ade-4e72-c6db-8b5cf2132434"
      },
      "source": [
        "print(max_contiguous_sum(arr,size))"
      ],
      "execution_count": 19,
      "outputs": [
        {
          "output_type": "execute_result",
          "data": {
            "text/plain": [
              "(5, 15, 12)"
            ]
          },
          "metadata": {
            "tags": []
          },
          "execution_count": 19
        }
      ]
    }
  ]
}