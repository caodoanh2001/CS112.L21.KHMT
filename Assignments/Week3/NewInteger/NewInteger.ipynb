{
  "nbformat": 4,
  "nbformat_minor": 0,
  "metadata": {
    "kernelspec": {
      "display_name": "Python 3",
      "language": "python",
      "name": "python3"
    },
    "language_info": {
      "codemirror_mode": {
        "name": "ipython",
        "version": 3
      },
      "file_extension": ".py",
      "mimetype": "text/x-python",
      "name": "python",
      "nbconvert_exporter": "python",
      "pygments_lexer": "ipython3",
      "version": "3.8.5"
    },
    "colab": {
      "name": "NewInteger.ipynb",
      "provenance": []
    }
  },
  "cells": [
    {
      "cell_type": "markdown",
      "metadata": {
        "id": "8vmL5cVo3o9O"
      },
      "source": [
        "# New Integer\n",
        "\n",
        "## Problem\n",
        "\n",
        "Let a positive integer n have no more than 100 digits. Find the largest integer m is divisible by 3 and differs from n by exactly one digit.\n",
        "\n",
        "Input from standard input device:\n",
        "\n",
        "Data: Input a positive integer n have no more than 100 digits which don't have meaningless 0 digits. \n",
        "\n",
        "Example:\n",
        "\n",
        "\n",
        "<table>\n",
        "<tbody>\n",
        "<tr>\n",
        "<td>Input</td>\n",
        "<td>Output</td>\n",
        "</tr>\n",
        "<tr>\n",
        "<td>\n",
        "<p><tt>123</tt></p>\n",
        "</td>\n",
        "<td>723</td>\n",
        "</tr>\n",
        "</tbody>\n",
        "</table>\n",
        "\n",
        "## Abstraction\n",
        "\n",
        "This problem is abstrated.\n",
        "\n",
        "\n",
        "## Pattern Recognition\n",
        "\n",
        "Brutal Force\n",
        "\n",
        "## Algorithm designed\n",
        "\n",
        "```\n",
        "\n",
        "function divisiblebyK(n):\n",
        "    str_n <- string(n)\n",
        "    int_n <- int(n)\n",
        "    rs <- [] # list that contains all solutions which divisible by 3 and and differs from n by exactly one digit\n",
        "    for i:=1 to n: # Loop and find solutions\n",
        "        int_n <- int_n - int(str_n[i])\n",
        "        N <- (3 - (int_n % 3)) % 3\n",
        "        for j:=N to 3:\n",
        "            j <- j*3\n",
        "            if (j != int(str_n[i])):\n",
        "                t <- (str_n[0:i] + str(j) + str_n[i+1:])\n",
        "                Add t to rs\n",
        "        endfor\n",
        "        int_n <- int_n + int(str_n[i])\n",
        "    endfor\n",
        "\n",
        "    rs <- sort(rs) # Sort list from small to large\n",
        "    idx <- len(rs)-1 # get idx final item\n",
        "    return rs[idx] # the largest is th\n",
        "\n",
        "```\n",
        "\n",
        "## Complexity\n",
        "\n",
        "Complexity: **O(N*10)**\n",
        "\n"
      ]
    },
    {
      "cell_type": "code",
      "metadata": {
        "id": "AcJ4C80E3o9P"
      },
      "source": [
        "n = input() #Input n\n",
        "\n",
        "def divisiblebyK(n):\n",
        "    str_n = str(n) # n with type string\n",
        "    int_n = int(str_n) # n with type int\n",
        "    rs = [] # list that contains all solutions which divisible by 3 and and differs from n by exactly one digit\n",
        "    for i in range(len(str_n)): # Loop and find solutions\n",
        "        int_n -= int(str_n[i])\n",
        "        N = (3 - (int_n % 3)) % 3\n",
        "        for j in range(N, 10, 3):\n",
        "            if (j != int(str_n[i])):\n",
        "                rs.append(str_n[0:i] + str(j) + str_n[i+1:])\n",
        "        int_n += int(str_n[i])\n",
        "\n",
        "    rs.sort() # Sort list from small to large\n",
        "    return rs[len(rs)-1] # the largest is th\n",
        "\n",
        "print(divisiblebyK(n))"
      ],
      "execution_count": null,
      "outputs": []
    }
  ]
}