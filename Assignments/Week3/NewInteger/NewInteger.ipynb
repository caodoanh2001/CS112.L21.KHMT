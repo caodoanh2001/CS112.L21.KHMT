{
 "cells": [
  {
   "cell_type": "markdown",
   "metadata": {},
   "source": [
    "# New Integer\n",
    "\n",
    "## Problem\n",
    "\n",
    "Let a positive integer n have no more than 100 digits. Find the largest integer m is divisible by 3 and differs from n by exactly one digit.\n",
    "\n",
    "Input from standard input device:\n",
    "\n",
    "Data: Input a positive integer n have no more than 100 digits which don't have meaningless 0 digits. \n",
    "\n",
    "Example:\n",
    "\n",
    "\n",
    "<table>\n",
    "<tbody>\n",
    "<tr>\n",
    "<td>Input</td>\n",
    "<td>Output</td>\n",
    "</tr>\n",
    "<tr>\n",
    "<td>\n",
    "<p><tt>123</tt></p>\n",
    "</td>\n",
    "<td>723</td>\n",
    "</tr>\n",
    "</tbody>\n",
    "</table>\n",
    "\n",
    "## Abstraction\n",
    "\n",
    "This problem is abstrated.\n",
    "\n",
    "\n",
    "## Pattern Recognition\n",
    "\n",
    "Brutal Force\n",
    "\n",
    "## Algorithm designed\n",
    "\n",
    "The main idea is search all solutions that divisible by 3 and and differs from n by exactly one digit. After that, we put these into a list and find the largest solution.\n",
    "\n"
   ]
  },
  {
   "cell_type": "code",
   "execution_count": null,
   "metadata": {},
   "outputs": [],
   "source": [
    "n = input() #Input n\n",
    "\n",
    "def divisiblebyK(n):\n",
    "    str_n = str(n) # n with type string\n",
    "    int_n = int(str_n) # n with type int\n",
    "    rs = [] # list that contains all solutions which divisible by 3 and and differs from n by exactly one digit\n",
    "    for i in range(len(str_n)): # Loop and find solutions\n",
    "        int_n -= int(str_n[i])\n",
    "        N = (3 - (int_n % 3)) % 3\n",
    "        for j in range(N, 10, 3):\n",
    "            if (j != int(str_n[i])):\n",
    "                rs.append(str_n[0:i] + str(j) + str_n[i+1:])\n",
    "        int_n += int(str_n[i])\n",
    "\n",
    "    rs.sort() # Sort list from small to large\n",
    "    return rs[len(rs)-1] # the largest is th\n",
    "\n",
    "print(divisiblebyK(n))"
   ]
  }
 ],
 "metadata": {
  "kernelspec": {
   "display_name": "Python 3",
   "language": "python",
   "name": "python3"
  },
  "language_info": {
   "codemirror_mode": {
    "name": "ipython",
    "version": 3
   },
   "file_extension": ".py",
   "mimetype": "text/x-python",
   "name": "python",
   "nbconvert_exporter": "python",
   "pygments_lexer": "ipython3",
   "version": "3.8.5"
  }
 },
 "nbformat": 4,
 "nbformat_minor": 4
}
